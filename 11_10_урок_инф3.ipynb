{
  "nbformat": 4,
  "nbformat_minor": 0,
  "metadata": {
    "colab": {
      "provenance": [],
      "authorship_tag": "ABX9TyMdLf9DqPBMqpa7la4uiGSK",
      "include_colab_link": true
    },
    "kernelspec": {
      "name": "python3",
      "display_name": "Python 3"
    },
    "language_info": {
      "name": "python"
    }
  },
  "cells": [
    {
      "cell_type": "markdown",
      "metadata": {
        "id": "view-in-github",
        "colab_type": "text"
      },
      "source": [
        "<a href=\"https://colab.research.google.com/github/ivalozkaMIIGAiK/EGE_inf3-11/blob/main/11_10_%D1%83%D1%80%D0%BE%D0%BA_%D0%B8%D0%BD%D1%843.ipynb\" target=\"_parent\"><img src=\"https://colab.research.google.com/assets/colab-badge.svg\" alt=\"Open In Colab\"/></a>"
      ]
    },
    {
      "cell_type": "code",
      "execution_count": null,
      "metadata": {
        "colab": {
          "base_uri": "https://localhost:8080/"
        },
        "id": "gbP4tWRwLhra",
        "outputId": "0dfe5975-3800-4fb0-9561-c8de51bd6b01",
        "collapsed": true
      },
      "outputs": [
        {
          "output_type": "stream",
          "name": "stdout",
          "text": [
            "sss\n",
            "ssk\n",
            "sso\n",
            "ssl\n",
            "ssa\n",
            "sks\n",
            "skk\n",
            "sko\n",
            "skl\n",
            "ska\n",
            "sos\n",
            "sok\n",
            "soo\n",
            "sol\n",
            "soa\n",
            "sls\n",
            "slk\n",
            "slo\n",
            "sll\n",
            "sla\n",
            "sas\n",
            "sak\n",
            "sao\n",
            "sal\n",
            "saa\n",
            "kss\n",
            "ksk\n",
            "kso\n",
            "ksl\n",
            "ksa\n",
            "kks\n",
            "kkk\n",
            "kko\n",
            "kkl\n",
            "kka\n",
            "kos\n",
            "kok\n",
            "koo\n",
            "kol\n",
            "koa\n",
            "kls\n",
            "klk\n",
            "klo\n",
            "kll\n",
            "kla\n",
            "kas\n",
            "kak\n",
            "kao\n",
            "kal\n",
            "kaa\n",
            "oss\n",
            "osk\n",
            "oso\n",
            "osl\n",
            "osa\n",
            "oks\n",
            "okk\n",
            "oko\n",
            "okl\n",
            "oka\n",
            "oos\n",
            "ook\n",
            "ooo\n",
            "ool\n",
            "ooa\n",
            "ols\n",
            "olk\n",
            "olo\n",
            "oll\n",
            "ola\n",
            "oas\n",
            "oak\n",
            "oao\n",
            "oal\n",
            "oaa\n",
            "lss\n",
            "lsk\n",
            "lso\n",
            "lsl\n",
            "lsa\n",
            "lks\n",
            "lkk\n",
            "lko\n",
            "lkl\n",
            "lka\n",
            "los\n",
            "lok\n",
            "loo\n",
            "lol\n",
            "loa\n",
            "lls\n",
            "llk\n",
            "llo\n",
            "lll\n",
            "lla\n",
            "las\n",
            "lak\n",
            "lao\n",
            "lal\n",
            "laa\n",
            "ass\n",
            "ask\n",
            "aso\n",
            "asl\n",
            "asa\n",
            "aks\n",
            "akk\n",
            "ako\n",
            "akl\n",
            "aka\n",
            "aos\n",
            "aok\n",
            "aoo\n",
            "aol\n",
            "aoa\n",
            "als\n",
            "alk\n",
            "alo\n",
            "all\n",
            "ala\n",
            "aas\n",
            "aak\n",
            "aao\n",
            "aal\n",
            "aaa\n"
          ]
        }
      ],
      "source": [
        "#1 способ роешения\n",
        "cnt = 0\n",
        "for pos1 in 'skola':\n",
        "  for pos2 in 'skola':\n",
        "    for pos3 in 'skola':\n",
        "      s = pos1 + pos2 + pos3\n",
        "      if s.count('k') == 1:\n",
        "          cnt += 1\n",
        "print(cnt)\n"
      ]
    },
    {
      "cell_type": "code",
      "source": [
        "#2 способ\n",
        "from itertools import product\n",
        "\n",
        "cnt = 0\n",
        "for i in product('skola', repeat = 3):\n",
        "    if i.count('k') == 1:\n",
        "        cnt += 1\n",
        "\n",
        "print(cnt)"
      ],
      "metadata": {
        "id": "x3pOkxbGNvbf",
        "colab": {
          "base_uri": "https://localhost:8080/"
        },
        "outputId": "3f8ab60b-4d42-4906-9b3a-735f68f9ab0c"
      },
      "execution_count": 1,
      "outputs": [
        {
          "output_type": "stream",
          "name": "stdout",
          "text": [
            "48\n"
          ]
        }
      ]
    },
    {
      "cell_type": "code",
      "source": [
        "#как сделать из списка строку\n",
        "from itertools import product\n",
        "\n",
        "cnt = 0\n",
        "for i in product('skola', repeat = 3):\n",
        "    s = ''.join(i)\n",
        "    print(s)"
      ],
      "metadata": {
        "id": "W73yvus3OXCf"
      },
      "execution_count": null,
      "outputs": []
    },
    {
      "cell_type": "code",
      "source": [
        "#списки слов 1 способ\n",
        "from itertools import product\n",
        "\n",
        "cnt = 0\n",
        "for i in product('abzi', repeat = 4):\n",
        "    cnt += 1\n",
        "    s = ''.join(i)\n",
        "    if s == 'izba':\n",
        "        print(cnt, s)"
      ],
      "metadata": {
        "id": "V4NsBjpXPkoK"
      },
      "execution_count": null,
      "outputs": []
    },
    {
      "cell_type": "code",
      "source": [
        "#списки слов 2 способ\n",
        "cnt = 0\n",
        "for pos1 in 'abzi':\n",
        "  for pos2 in 'abzi':\n",
        "    for pos3 in 'abzi':\n",
        "      for pos4 in 'abzi':\n",
        "        cnt += 1\n",
        "        s = pos1 + pos2 + pos3 + pos4\n",
        "        if s == 'izba':\n",
        "            print(cnt, s)"
      ],
      "metadata": {
        "colab": {
          "base_uri": "https://localhost:8080/"
        },
        "id": "UTcdRZPtQrSV",
        "outputId": "e086c92e-792f-414e-ab76-e6b017e7e988"
      },
      "execution_count": null,
      "outputs": [
        {
          "output_type": "stream",
          "name": "stdout",
          "text": [
            "229 izba\n"
          ]
        }
      ]
    }
  ]
}